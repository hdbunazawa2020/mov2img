{
 "cells": [
  {
   "cell_type": "markdown",
   "metadata": {},
   "source": [
    "## 20220422 Mov2Img\n",
    "\n",
    "動画ファイルから画像ファイルを作り出すスクリプト  \n",
    "はじめに、動画の情報を読み取る。  \n",
    "  \n",
    "その後、save_all_frames、save_frame、save_frame_range、save_frame_range_secの4種類の  \n",
    "関数を定義し、実行できる。  \n",
    "それぞれの関数の定義に合わせて、動画から画像に変換する。\n",
    "\n",
    "[参考にしたページ](https://note.nkmk.me/python-opencv-video-to-still-image/)  \n",
    "[サンプル動画](http://www.ss-dc.com/tokusyu/tokusyu56.html)：\n",
    "NHKクリエイティブライブラリから動画を拝借。"
   ]
  },
  {
   "cell_type": "code",
   "execution_count": 1,
   "metadata": {},
   "outputs": [],
   "source": [
    "####################\n",
    "# Libraries\n",
    "####################\n",
    "import cv2\n",
    "import os"
   ]
  },
  {
   "cell_type": "code",
   "execution_count": 2,
   "metadata": {},
   "outputs": [],
   "source": [
    "####################\n",
    "# Config\n",
    "####################\n",
    "class Config:\n",
    "    video_path = '../input/sample_video.mp4'\n",
    "    dir_path = '../output'\n",
    "    result_path = '../output/sample_frame.jpg'\n",
    "    basename = 'sample'\n",
    "    ext = 'jpg'\n",
    "    frame_num = 20\n",
    "    start_frame = 0\n",
    "    stop_frame = 700\n",
    "    step_frame = 20\n",
    "    start_sec = 0\n",
    "    stop_sec = 100\n",
    "    step_sec = 2.5\n",
    "    \n",
    "cfg = Config()"
   ]
  },
  {
   "cell_type": "markdown",
   "metadata": {},
   "source": [
    "configで設定した動画パスから動画を読み込んで表示してみる。"
   ]
  },
  {
   "cell_type": "code",
   "execution_count": 3,
   "metadata": {},
   "outputs": [
    {
     "name": "stdout",
     "output_type": "stream",
     "text": [
      "Can't receive frame (stream end?). Exiting ...\n"
     ]
    }
   ],
   "source": [
    "# 動画の読み込み\n",
    "cap = cv2.VideoCapture(cfg.video_path)\n",
    "\n",
    "while cap.isOpened():\n",
    "    ret, frame = cap.read()\n",
    "    # if frame is read correctly ret is True\n",
    "    if not ret:\n",
    "        print(\"Can't receive frame (stream end?). Exiting ...\")\n",
    "        break\n",
    "    gray = cv2.cvtColor(frame, cv2.COLOR_BGR2GRAY)\n",
    "    cv2.imshow('frame', gray)\n",
    "    if cv2.waitKey(1) == ord('q'):\n",
    "        break\n",
    "cap.release()\n",
    "cv2.destroyAllWindows()"
   ]
  },
  {
   "cell_type": "markdown",
   "metadata": {},
   "source": [
    "動画のフレーム長さ、秒数を取得する。"
   ]
  },
  {
   "cell_type": "code",
   "execution_count": 6,
   "metadata": {},
   "outputs": [
    {
     "name": "stdout",
     "output_type": "stream",
     "text": [
      "動画のフレーム長: 807.0\n",
      "動画の長さ: 26.93sec\n"
     ]
    }
   ],
   "source": [
    "cap = cv2.VideoCapture(cfg.video_path)                # 動画を読み込む\n",
    "video_frame_count = cap.get(cv2.CAP_PROP_FRAME_COUNT) # フレーム数を取得する\n",
    "video_fps = cap.get(cv2.CAP_PROP_FPS)                 # フレームレートを取得する\n",
    "video_len_sec = video_frame_count / video_fps         # 長さ（秒）を計算する\n",
    "print(f\"動画のフレーム長: {video_frame_count}\")\n",
    "print(f\"動画の長さ: {video_len_sec:.2f}sec\")"
   ]
  },
  {
   "cell_type": "markdown",
   "metadata": {},
   "source": [
    "# Main"
   ]
  },
  {
   "cell_type": "markdown",
   "metadata": {},
   "source": [
    "##### すべてのフレームを画像ファイルとして保存\n",
    "---"
   ]
  },
  {
   "cell_type": "code",
   "execution_count": null,
   "metadata": {},
   "outputs": [],
   "source": [
    "# すべてのフレームを画像ファイルとして保存\n",
    "def save_all_frames(video_path, dir_path, basename, ext='jpg'):\n",
    "    \"\"\"指定フォルダ内にあるすべての動画ファイルを画像ファイルに変換する。\n",
    "\n",
    "    Args:\n",
    "        video_path (Path): 動画ファイルのPath\n",
    "        dir_path (Path): 保存先フォルダ\n",
    "        basename (str): 保存ファイル名\n",
    "        ext (str, optional): 保存する画像の拡張子. Defaults to 'jpg'.\n",
    "    \"\"\"\n",
    "    # OpenCVのVideoCaptureで動画を読み込み\n",
    "    cap = cv2.VideoCapture(video_path)\n",
    "    # 動画ファイルが開いていたら実行をやめる。\n",
    "    if not cap.isOpened():\n",
    "        return\n",
    "    \n",
    "    # 出力先フォルダの作成\n",
    "    os.makedirs(dir_path, exist_ok=True) \n",
    "    base_path = os.path.join(dir_path, basename)\n",
    "\n",
    "    digit = len(str(int(cap.get(cv2.CAP_PROP_FRAME_COUNT))))\n",
    "\n",
    "    n = 0\n",
    "\n",
    "    while True:\n",
    "        \n",
    "        ret, frame = cap.read()\n",
    "        if ret:\n",
    "            cv2.imwrite('{}_{}.{}'.format(base_path, str(n).zfill(digit), ext), frame)\n",
    "            n += 1\n",
    "        else:\n",
    "            return"
   ]
  },
  {
   "cell_type": "code",
   "execution_count": null,
   "metadata": {},
   "outputs": [],
   "source": [
    "# 実行(普通に実行すると、けっこうな量のjpgが生成されるので、要注意)\n",
    "if False:\n",
    "    save_all_frames(\n",
    "        video_path = cfg.video_path, \n",
    "        dir_path = cfg.dir_path, \n",
    "        basename = cfg.basename, \n",
    "        ext = cfg.ext,\n",
    "        )"
   ]
  },
  {
   "cell_type": "markdown",
   "metadata": {},
   "source": [
    "##### 任意のフレームを指定して画像ファイルとして保存\n",
    "---"
   ]
  },
  {
   "cell_type": "code",
   "execution_count": null,
   "metadata": {},
   "outputs": [],
   "source": [
    "# 単独のフレームを指定\n",
    "def save_frame(video_path, frame_num, result_path):\n",
    "    \"\"\"任意のフレームを指定して保存\n",
    "\n",
    "    Args:\n",
    "        video_path (Path): 動画ファイルのパス\n",
    "        frame_num (int): フレームNo.\n",
    "        result_path (Path): 保存ファイルのパス\n",
    "    \"\"\"\n",
    "    cap = cv2.VideoCapture(video_path)\n",
    "\n",
    "    if not cap.isOpened():\n",
    "        return\n",
    "\n",
    "    os.makedirs(os.path.dirname(result_path), exist_ok=True)\n",
    "\n",
    "    cap.set(cv2.CAP_PROP_POS_FRAMES, frame_num)\n",
    "\n",
    "    ret, frame = cap.read()\n",
    "\n",
    "    if ret:\n",
    "        cv2.imwrite(result_path, frame)"
   ]
  },
  {
   "cell_type": "code",
   "execution_count": null,
   "metadata": {},
   "outputs": [],
   "source": [
    "# 実行\n",
    "if False:\n",
    "    save_frame(\n",
    "        video_path = cfg.video_path, \n",
    "        frame_num = cfg.frame_num, \n",
    "        result_path = cfg.result_path, \n",
    "        )"
   ]
  },
  {
   "cell_type": "code",
   "execution_count": null,
   "metadata": {},
   "outputs": [],
   "source": [
    "# 任意の範囲のフレームを指定\n",
    "def save_frame_range(video_path, start_frame, stop_frame, step_frame,\n",
    "                     dir_path, basename, ext='jpg'):\n",
    "    \"\"\"指定の範囲のフレームの画像を保存\n",
    "\n",
    "    Args:\n",
    "        video_path (Path): 動画ファイルのパス\n",
    "        start_frame (int): 開始フレームNo.\n",
    "        stop_frame (int): 終了フレームNo.\n",
    "        step_frame (int): フレームのステップ数\n",
    "        dir_path (Path): 保存先のパス\n",
    "        basename (str): ファイルのベース名\n",
    "        ext (str, optional): 画像の拡張子. Defaults to 'jpg'.\n",
    "    \"\"\"\n",
    "    # 画像の読み込み\n",
    "    cap = cv2.VideoCapture(video_path)\n",
    "    # 画像が開いていたら処理終了\n",
    "    if not cap.isOpened():\n",
    "        return\n",
    "\n",
    "    # 保存フォルダの作成\n",
    "    os.makedirs(dir_path, exist_ok=True)\n",
    "    base_path = os.path.join(dir_path, basename)\n",
    "\n",
    "    digit = len(str(int(cap.get(cv2.CAP_PROP_FRAME_COUNT))))\n",
    "\n",
    "    for n in range(start_frame, stop_frame, step_frame):\n",
    "        cap.set(cv2.CAP_PROP_POS_FRAMES, n)\n",
    "        ret, frame = cap.read()\n",
    "        if ret:\n",
    "            cv2.imwrite('{}_{}.{}'.format(base_path, str(n).zfill(digit), ext), frame)\n",
    "        else:\n",
    "            return"
   ]
  },
  {
   "cell_type": "code",
   "execution_count": null,
   "metadata": {},
   "outputs": [],
   "source": [
    "# 実行\n",
    "if False:\n",
    "    save_frame_range(\n",
    "        video_path = cfg.video_path, \n",
    "        start_frame = cfg.start_frame, \n",
    "        stop_frame = cfg.stop_frame, \n",
    "        step_frame = cfg.step_frame,\n",
    "        dir_path = cfg.dir_path, \n",
    "        basename = cfg.basename, \n",
    "        ext='jpg'\n",
    "        )"
   ]
  },
  {
   "cell_type": "code",
   "execution_count": null,
   "metadata": {},
   "outputs": [],
   "source": [
    "# 時間（秒数）で指定 (time[sec] = frame / FPS)\n",
    "def save_frame_range_sec(video_path, start_sec, stop_sec, step_sec,\n",
    "                         dir_path, basename, ext='jpg'):\n",
    "    \"\"\"切り出す時間を指定して画像にする。\n",
    "\n",
    "    Args:\n",
    "        video_path (Path): 動画ファイルのパス\n",
    "        start_sec (float): 開始の時刻\n",
    "        stop_sec (float): 終了の時刻\n",
    "        step_sec (float): 時間ステップ\n",
    "        dir_path (Path): 保存先のパス\n",
    "        basename (str): 保存ファイルのベース名\n",
    "        ext (str, optional): 画像の拡張子. Defaults to 'jpg'.\n",
    "    \"\"\"\n",
    "    cap = cv2.VideoCapture(video_path)\n",
    "\n",
    "    if not cap.isOpened():\n",
    "        return\n",
    "\n",
    "    os.makedirs(dir_path, exist_ok=True)\n",
    "    base_path = os.path.join(dir_path, basename)\n",
    "\n",
    "    digit = len(str(int(cap.get(cv2.CAP_PROP_FRAME_COUNT))))\n",
    "\n",
    "    fps = cap.get(cv2.CAP_PROP_FPS)\n",
    "    fps_inv = 1 / fps\n",
    "\n",
    "    sec = start_sec\n",
    "    while sec < stop_sec:\n",
    "        n = round(fps * sec)\n",
    "        cap.set(cv2.CAP_PROP_POS_FRAMES, n)\n",
    "        ret, frame = cap.read()\n",
    "        if ret:\n",
    "            cv2.imwrite(\n",
    "                '{}_{}_{:.2f}.{}'.format(\n",
    "                    base_path, str(n).zfill(digit), n * fps_inv, ext\n",
    "                ),\n",
    "                frame\n",
    "            )\n",
    "        else:\n",
    "            return\n",
    "        sec += step_sec"
   ]
  },
  {
   "cell_type": "code",
   "execution_count": null,
   "metadata": {},
   "outputs": [],
   "source": [
    "# 実行\n",
    "if True:\n",
    "    save_frame_range_sec(\n",
    "        video_path = cfg.video_path, \n",
    "        start_sec = cfg.start_sec, \n",
    "        stop_sec = cfg.stop_sec, \n",
    "        step_sec = cfg.step_sec,\n",
    "        dir_path = cfg.dir_path, \n",
    "        basename = cfg.basename, \n",
    "        ext='jpg'\n",
    "        )"
   ]
  },
  {
   "cell_type": "markdown",
   "metadata": {},
   "source": [
    "##### 動画を再生しながらキーボード押下で保存\n",
    "---"
   ]
  },
  {
   "cell_type": "code",
   "execution_count": null,
   "metadata": {},
   "outputs": [],
   "source": [
    "def save_frame_play(video_path, dir_path, basename, ext='jpg', delay=1, window_name='frame'):\n",
    "    \"\"\"動画を再生しながら、キーボード押下で保存\n",
    "\n",
    "    Args:\n",
    "        video_path (Path): 動画のパス\n",
    "        dir_path (Path): 保存先フォルダのパス\n",
    "        basename (str): ベース名\n",
    "        ext (str, optional): 画像の拡張子. Defaults to 'jpg'.\n",
    "        delay (int, optional): 処理のディレイ. Defaults to 1.\n",
    "        window_name (str, optional): ウィンドウの名前. Defaults to 'frame'.\n",
    "    \"\"\"\n",
    "    cap = cv2.VideoCapture(video_path)\n",
    "\n",
    "    if not cap.isOpened():\n",
    "        return\n",
    "\n",
    "    os.makedirs(dir_path, exist_ok=True)\n",
    "    base_path = os.path.join(dir_path, basename)\n",
    "\n",
    "    digit = len(str(int(cap.get(cv2.CAP_PROP_FRAME_COUNT))))\n",
    "\n",
    "    n = 0\n",
    "    while True:\n",
    "        ret, frame = cap.read()\n",
    "        if ret:\n",
    "            cv2.imshow(window_name, frame)\n",
    "            key = cv2.waitKey(delay) & 0xFF\n",
    "            if key == ord('c'):\n",
    "                cv2.imwrite('{}_{}.{}'.format(base_path, str(n).zfill(digit), ext), frame)\n",
    "            elif key == ord('q'):\n",
    "                break\n",
    "            n += 1\n",
    "        else:\n",
    "            cap.set(cv2.CAP_PROP_POS_FRAMES, 0)\n",
    "            n = 0\n",
    "\n",
    "    cv2.destroyWindow(window_name)"
   ]
  },
  {
   "cell_type": "code",
   "execution_count": null,
   "metadata": {},
   "outputs": [],
   "source": [
    "# 実行\n",
    "if False:\n",
    "    save_frame_play(\n",
    "        video_path = cfg.video_path, \n",
    "        dir_path = cfg.dir_path, \n",
    "        basename = cfg.basename, \n",
    "        ext='jpg', \n",
    "        delay=1, \n",
    "        window_name='frame'\n",
    "        )"
   ]
  },
  {
   "cell_type": "code",
   "execution_count": null,
   "metadata": {},
   "outputs": [],
   "source": []
  }
 ],
 "metadata": {
  "interpreter": {
   "hash": "89de3f8351163c0ec44859fd210dba09a8dd94628e13750edb4229e6a87a2776"
  },
  "kernelspec": {
   "display_name": "Python 3.8.7 64-bit",
   "language": "python",
   "name": "python3"
  },
  "language_info": {
   "codemirror_mode": {
    "name": "ipython",
    "version": 3
   },
   "file_extension": ".py",
   "mimetype": "text/x-python",
   "name": "python",
   "nbconvert_exporter": "python",
   "pygments_lexer": "ipython3",
   "version": "3.8.7"
  },
  "orig_nbformat": 4
 },
 "nbformat": 4,
 "nbformat_minor": 2
}
